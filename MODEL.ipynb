{
 "cells": [
  {
   "cell_type": "code",
   "execution_count": 10,
   "id": "1e571014",
   "metadata": {},
   "outputs": [],
   "source": [
    "import pandas as pd"
   ]
  },
  {
   "cell_type": "code",
   "execution_count": 11,
   "id": "4a4a8cf1",
   "metadata": {},
   "outputs": [],
   "source": [
    "data=pd.read_csv('preprocessed_train_data.csv')"
   ]
  },
  {
   "cell_type": "code",
   "execution_count": 12,
   "id": "0d93928a",
   "metadata": {},
   "outputs": [
    {
     "data": {
      "text/html": [
       "<div>\n",
       "<style scoped>\n",
       "    .dataframe tbody tr th:only-of-type {\n",
       "        vertical-align: middle;\n",
       "    }\n",
       "\n",
       "    .dataframe tbody tr th {\n",
       "        vertical-align: top;\n",
       "    }\n",
       "\n",
       "    .dataframe thead th {\n",
       "        text-align: right;\n",
       "    }\n",
       "</style>\n",
       "<table border=\"1\" class=\"dataframe\">\n",
       "  <thead>\n",
       "    <tr style=\"text-align: right;\">\n",
       "      <th></th>\n",
       "      <th>PID</th>\n",
       "      <th>Text data</th>\n",
       "      <th>Label</th>\n",
       "    </tr>\n",
       "  </thead>\n",
       "  <tbody>\n",
       "    <tr>\n",
       "      <th>0</th>\n",
       "      <td>train_pid_1</td>\n",
       "      <td>waiting mind breakdown new year feeling isnt a...</td>\n",
       "      <td>moderate</td>\n",
       "    </tr>\n",
       "    <tr>\n",
       "      <th>1</th>\n",
       "      <td>train_pid_2</td>\n",
       "      <td>new years resolution im gon na get ass therapi...</td>\n",
       "      <td>moderate</td>\n",
       "    </tr>\n",
       "    <tr>\n",
       "      <th>2</th>\n",
       "      <td>train_pid_3</td>\n",
       "      <td>new year somone else feeling like 2020 last ye...</td>\n",
       "      <td>moderate</td>\n",
       "    </tr>\n",
       "    <tr>\n",
       "      <th>3</th>\n",
       "      <td>train_pid_4</td>\n",
       "      <td>story guess hi im germany english mostly self ...</td>\n",
       "      <td>moderate</td>\n",
       "    </tr>\n",
       "    <tr>\n",
       "      <th>4</th>\n",
       "      <td>train_pid_5</td>\n",
       "      <td>sat dark cried going new year great start 2020</td>\n",
       "      <td>moderate</td>\n",
       "    </tr>\n",
       "    <tr>\n",
       "      <th>...</th>\n",
       "      <td>...</td>\n",
       "      <td>...</td>\n",
       "      <td>...</td>\n",
       "    </tr>\n",
       "    <tr>\n",
       "      <th>11029</th>\n",
       "      <td>train_pid_5033</td>\n",
       "      <td>never want rely anyone lowkey always probably</td>\n",
       "      <td>not depression</td>\n",
       "    </tr>\n",
       "    <tr>\n",
       "      <th>11030</th>\n",
       "      <td>train_pid_5051</td>\n",
       "      <td>anyone else feel like every single week dumb s...</td>\n",
       "      <td>not depression</td>\n",
       "    </tr>\n",
       "    <tr>\n",
       "      <th>11031</th>\n",
       "      <td>train_pid_1722</td>\n",
       "      <td>well well im done cant believe im saying ive f...</td>\n",
       "      <td>not depression</td>\n",
       "    </tr>\n",
       "    <tr>\n",
       "      <th>11032</th>\n",
       "      <td>train_pid_5373</td>\n",
       "      <td>thinking maxing two credit cards buy gaming la...</td>\n",
       "      <td>not depression</td>\n",
       "    </tr>\n",
       "    <tr>\n",
       "      <th>11033</th>\n",
       "      <td>train_pid_5796</td>\n",
       "      <td>ive taking consistent showers last 2 weeks im ...</td>\n",
       "      <td>not depression</td>\n",
       "    </tr>\n",
       "  </tbody>\n",
       "</table>\n",
       "<p>11034 rows × 3 columns</p>\n",
       "</div>"
      ],
      "text/plain": [
       "                  PID                                          Text data  \\\n",
       "0         train_pid_1  waiting mind breakdown new year feeling isnt a...   \n",
       "1         train_pid_2  new years resolution im gon na get ass therapi...   \n",
       "2         train_pid_3  new year somone else feeling like 2020 last ye...   \n",
       "3         train_pid_4  story guess hi im germany english mostly self ...   \n",
       "4         train_pid_5     sat dark cried going new year great start 2020   \n",
       "...               ...                                                ...   \n",
       "11029  train_pid_5033      never want rely anyone lowkey always probably   \n",
       "11030  train_pid_5051  anyone else feel like every single week dumb s...   \n",
       "11031  train_pid_1722  well well im done cant believe im saying ive f...   \n",
       "11032  train_pid_5373  thinking maxing two credit cards buy gaming la...   \n",
       "11033  train_pid_5796  ive taking consistent showers last 2 weeks im ...   \n",
       "\n",
       "                Label  \n",
       "0            moderate  \n",
       "1            moderate  \n",
       "2            moderate  \n",
       "3            moderate  \n",
       "4            moderate  \n",
       "...               ...  \n",
       "11029  not depression  \n",
       "11030  not depression  \n",
       "11031  not depression  \n",
       "11032  not depression  \n",
       "11033  not depression  \n",
       "\n",
       "[11034 rows x 3 columns]"
      ]
     },
     "execution_count": 12,
     "metadata": {},
     "output_type": "execute_result"
    }
   ],
   "source": [
    "data"
   ]
  },
  {
   "cell_type": "code",
   "execution_count": 13,
   "id": "04c8816d",
   "metadata": {},
   "outputs": [],
   "source": [
    "import numpy as np\n",
    "from sklearn.feature_extraction.text import TfidfVectorizer\n",
    "from sklearn.model_selection import train_test_split\n",
    "import matplotlib.pyplot as plt"
   ]
  },
  {
   "cell_type": "code",
   "execution_count": 14,
   "id": "3a0cfb3e",
   "metadata": {},
   "outputs": [],
   "source": [
    "from sklearn.feature_extraction.text import CountVectorizer\n",
    "x = data['Text data']\n",
    "y = data['Label']\n",
    "x = np.array(data.iloc[:,0].values)\n",
    "y = np.array(data['Label'].values)\n",
    "cv = CountVectorizer()\n",
    "x = cv.fit_transform(data['Text data']).toarray()"
   ]
  },
  {
   "cell_type": "code",
   "execution_count": 15,
   "id": "331dff60",
   "metadata": {},
   "outputs": [],
   "source": [
    "x_train, x_test, y_train, y_test = train_test_split(x, y, test_size = 0.3, random_state = 0, shuffle = True)"
   ]
  },
  {
   "cell_type": "code",
   "execution_count": 16,
   "id": "08a1e7e0",
   "metadata": {},
   "outputs": [],
   "source": [
    "from sklearn.metrics import accuracy_score\n",
    "from sklearn.metrics import precision_recall_fscore_support as score\n",
    "from sklearn.multiclass import OneVsRestClassifier\n",
    "from sklearn.metrics import confusion_matrix, ConfusionMatrixDisplay\n",
    "from sklearn.ensemble import RandomForestClassifier"
   ]
  },
  {
   "cell_type": "code",
   "execution_count": 17,
   "id": "e2bf5a82",
   "metadata": {},
   "outputs": [],
   "source": [
    "rf = RandomForestClassifier(n_estimators=100 ,criterion='entropy' , random_state=0)\n",
    "oneVsRestrf = OneVsRestClassifier(rf)"
   ]
  },
  {
   "cell_type": "code",
   "execution_count": 18,
   "id": "09b33c91",
   "metadata": {},
   "outputs": [
    {
     "data": {
      "text/plain": [
       "OneVsRestClassifier(estimator=RandomForestClassifier(criterion='entropy',\n",
       "                                                     random_state=0))"
      ]
     },
     "execution_count": 18,
     "metadata": {},
     "output_type": "execute_result"
    }
   ],
   "source": [
    "oneVsRestrf.fit(x_train, y_train)"
   ]
  },
  {
   "cell_type": "code",
   "execution_count": 19,
   "id": "0485d4f6",
   "metadata": {},
   "outputs": [],
   "source": [
    "y_pred = oneVsRestrf.predict(x_test)"
   ]
  },
  {
   "cell_type": "code",
   "execution_count": null,
   "id": "fa6300cf",
   "metadata": {},
   "outputs": [],
   "source": [
    "from sklearn.metrics import classification_report\n",
    "print(\"Classification Report\")\n",
    "print(classification_report(y_test,y_pred))"
   ]
  },
  {
   "cell_type": "code",
   "execution_count": 20,
   "id": "dfd2ef4b",
   "metadata": {},
   "outputs": [],
   "source": [
    "cm=confusion_matrix(y_test,y_pred, labels=oneVsRestrf.classes_)"
   ]
  },
  {
   "cell_type": "code",
   "execution_count": 22,
   "id": "a9c51580",
   "metadata": {},
   "outputs": [
    {
     "data": {
      "image/png": "[encoded data removed]",
      "text/plain": [
       "<Figure size 640x480 with 2 Axes>"
      ]
     },
     "metadata": {},
     "output_type": "display_data"
    }
   ],
   "source": [
    "disp = ConfusionMatrixDisplay(confusion_matrix=cm,display_labels=oneVsRestrf.classes_)\n",
    "disp.plot()\n",
    "plt.show()"
   ]
  },
  {
   "cell_type": "code",
   "execution_count": 23,
   "id": "4570a6d7",
   "metadata": {},
   "outputs": [
    {
     "data": {
      "text/html": [
       "<div>\n",
       "<style scoped>\n",
       "    .dataframe tbody tr th:only-of-type {\n",
       "        vertical-align: middle;\n",
       "    }\n",
       "\n",
       "    .dataframe tbody tr th {\n",
       "        vertical-align: top;\n",
       "    }\n",
       "\n",
       "    .dataframe thead th {\n",
       "        text-align: right;\n",
       "    }\n",
       "</style>\n",
       "<table border=\"1\" class=\"dataframe\">\n",
       "  <thead>\n",
       "    <tr style=\"text-align: right;\">\n",
       "      <th></th>\n",
       "      <th>Pid</th>\n",
       "      <th>text data</th>\n",
       "      <th>Class labels</th>\n",
       "    </tr>\n",
       "  </thead>\n",
       "  <tbody>\n",
       "    <tr>\n",
       "      <th>0</th>\n",
       "      <td>dev_pid_1</td>\n",
       "      <td>im scared lie every day say ill make think mig...</td>\n",
       "      <td>moderate</td>\n",
       "    </tr>\n",
       "    <tr>\n",
       "      <th>1</th>\n",
       "      <td>dev_pid_2</td>\n",
       "      <td>new wanted vent finally realized im kind bad m...</td>\n",
       "      <td>moderate</td>\n",
       "    </tr>\n",
       "    <tr>\n",
       "      <th>2</th>\n",
       "      <td>dev_pid_3</td>\n",
       "      <td>im sad kinda always issue wouldnt say bad peer...</td>\n",
       "      <td>moderate</td>\n",
       "    </tr>\n",
       "    <tr>\n",
       "      <th>3</th>\n",
       "      <td>dev_pid_4</td>\n",
       "      <td>lonely alone immediately family members dead d...</td>\n",
       "      <td>moderate</td>\n",
       "    </tr>\n",
       "    <tr>\n",
       "      <th>4</th>\n",
       "      <td>dev_pid_5</td>\n",
       "      <td>year trash dont know im posting dont even know...</td>\n",
       "      <td>moderate</td>\n",
       "    </tr>\n",
       "    <tr>\n",
       "      <th>...</th>\n",
       "      <td>...</td>\n",
       "      <td>...</td>\n",
       "      <td>...</td>\n",
       "    </tr>\n",
       "    <tr>\n",
       "      <th>6502</th>\n",
       "      <td>dev_pid_2514</td>\n",
       "      <td>anyone feared theyll kill loved ones sleep uni...</td>\n",
       "      <td>not depression</td>\n",
       "    </tr>\n",
       "    <tr>\n",
       "      <th>6503</th>\n",
       "      <td>dev_pid_2829</td>\n",
       "      <td>finally got fulltime job feel even worse maybe...</td>\n",
       "      <td>not depression</td>\n",
       "    </tr>\n",
       "    <tr>\n",
       "      <th>6504</th>\n",
       "      <td>dev_pid_2260</td>\n",
       "      <td>deal boredomnothing satisfying anymore days ta...</td>\n",
       "      <td>not depression</td>\n",
       "    </tr>\n",
       "    <tr>\n",
       "      <th>6505</th>\n",
       "      <td>dev_pid_2653</td>\n",
       "      <td>got bed showered morning removed</td>\n",
       "      <td>not depression</td>\n",
       "    </tr>\n",
       "    <tr>\n",
       "      <th>6506</th>\n",
       "      <td>dev_pid_2460</td>\n",
       "      <td>depressed suicidal 2018 start 2020 ive woken d...</td>\n",
       "      <td>not depression</td>\n",
       "    </tr>\n",
       "  </tbody>\n",
       "</table>\n",
       "<p>6507 rows × 3 columns</p>\n",
       "</div>"
      ],
      "text/plain": [
       "               Pid                                          text data  \\\n",
       "0        dev_pid_1  im scared lie every day say ill make think mig...   \n",
       "1        dev_pid_2  new wanted vent finally realized im kind bad m...   \n",
       "2        dev_pid_3  im sad kinda always issue wouldnt say bad peer...   \n",
       "3        dev_pid_4  lonely alone immediately family members dead d...   \n",
       "4        dev_pid_5  year trash dont know im posting dont even know...   \n",
       "...            ...                                                ...   \n",
       "6502  dev_pid_2514  anyone feared theyll kill loved ones sleep uni...   \n",
       "6503  dev_pid_2829  finally got fulltime job feel even worse maybe...   \n",
       "6504  dev_pid_2260  deal boredomnothing satisfying anymore days ta...   \n",
       "6505  dev_pid_2653                   got bed showered morning removed   \n",
       "6506  dev_pid_2460  depressed suicidal 2018 start 2020 ive woken d...   \n",
       "\n",
       "        Class labels  \n",
       "0           moderate  \n",
       "1           moderate  \n",
       "2           moderate  \n",
       "3           moderate  \n",
       "4           moderate  \n",
       "...              ...  \n",
       "6502  not depression  \n",
       "6503  not depression  \n",
       "6504  not depression  \n",
       "6505  not depression  \n",
       "6506  not depression  \n",
       "\n",
       "[6507 rows x 3 columns]"
      ]
     },
     "execution_count": 23,
     "metadata": {},
     "output_type": "execute_result"
    }
   ],
   "source": [
    "data=pd.read_csv('preprocessed_dev_data.csv')\n",
    "data"
   ]
  },
  {
   "cell_type": "code",
   "execution_count": 24,
   "id": "96fdafca",
   "metadata": {},
   "outputs": [],
   "source": [
    "x = data['text data']\n",
    "y = data['Class labels']\n",
    "x = np.array(data.iloc[:,0].values)\n",
    "y = np.array(data['Class labels'].values)\n",
    "x = cv.fit_transform(data['text data']).toarray()"
   ]
  },
  {
   "cell_type": "code",
   "execution_count": 25,
   "id": "bc087c51",
   "metadata": {},
   "outputs": [],
   "source": [
    "x_train, x_test, y_train, y_test = train_test_split(x, y, test_size = 0.3, random_state = 0, shuffle = True)"
   ]
  },
  {
   "cell_type": "code",
   "execution_count": 26,
   "id": "84f87174",
   "metadata": {},
   "outputs": [
    {
     "data": {
      "text/plain": [
       "OneVsRestClassifier(estimator=RandomForestClassifier(criterion='entropy',\n",
       "                                                     random_state=0))"
      ]
     },
     "execution_count": 26,
     "metadata": {},
     "output_type": "execute_result"
    }
   ],
   "source": [
    "oneVsRestrf.fit(x_train, y_train)"
   ]
  },
  {
   "cell_type": "code",
   "execution_count": 27,
   "id": "c3d0d1b2",
   "metadata": {},
   "outputs": [],
   "source": [
    "y_pred = oneVsRestrf.predict(x_test)"
   ]
  },
  {
   "cell_type": "code",
   "execution_count": null,
   "id": "2ed920b2",
   "metadata": {},
   "outputs": [],
   "source": [
    "print(\"Classification Report\")\n",
    "print(classification_report(y_test,y_pred))"
   ]
  },
  {
   "cell_type": "code",
   "execution_count": 28,
   "id": "24578ec7",
   "metadata": {},
   "outputs": [
    {
     "data": {
      "image/png": "[encoded data removed]",
      "text/plain": [
       "<Figure size 640x480 with 2 Axes>"
      ]
     },
     "metadata": {},
     "output_type": "display_data"
    }
   ],
   "source": [
    "cm=confusion_matrix(y_test,y_pred, labels=oneVsRestrf.classes_)\n",
    "disp = ConfusionMatrixDisplay(confusion_matrix=cm,display_labels=oneVsRestrf.classes_)\n",
    "disp.plot()\n",
    "plt.show()"
   ]
  },
  {
   "cell_type": "code",
   "execution_count": null,
   "id": "91e23741",
   "metadata": {},
   "outputs": [],
   "source": [
    "input_text = 'This is me. Don鈥檛 get me wrong, it鈥檚 better than don鈥檛-leave-my-bed-for-a-week depression. I am grateful I can be an independent person. But there is something uniquely horrible about being able to go to work every day, occasionally clean up after yourself, pay your bills, generally put yourself together enough to look like a human being... but that鈥檚 it. Nothing else. No social life. No hobbies. Constantly battling your mind. And being absolutely fucking exhausted all the time.'\n",
    "preprocessed_text = cv.transform([input_text]).toarray()\n",
    "prediction = oneVsRestrf.predict(preprocessed_text)\n",
    "print(prediction)"
   ]
  },
  {
   "cell_type": "code",
   "execution_count": null,
   "id": "279e33ec",
   "metadata": {},
   "outputs": [],
   "source": [
    "data = pd.read_excel('test_data.xlsx')\n",
    "data"
   ]
  },
  {
   "cell_type": "code",
   "execution_count": null,
   "id": "fb72ca5a",
   "metadata": {},
   "outputs": [],
   "source": [
    "data['Text data'] = data['Text data'].fillna('')"
   ]
  },
  {
   "cell_type": "code",
   "execution_count": 18,
   "id": "7549f7d0",
   "metadata": {},
   "outputs": [],
   "source": [
    "pid = data['Pid']\n",
    "text_data = data['Text data']"
   ]
  },
  {
   "cell_type": "code",
   "execution_count": 19,
   "id": "07464c1b",
   "metadata": {},
   "outputs": [],
   "source": [
    "preprocessed_text = cv.transform(text_data).toarray()"
   ]
  },
  {
   "cell_type": "code",
   "execution_count": 20,
   "id": "f31a94af",
   "metadata": {},
   "outputs": [],
   "source": [
    "predictions = oneVsRestrf.predict(preprocessed_text)"
   ]
  },
  {
   "cell_type": "code",
   "execution_count": 21,
   "id": "f8f41a73",
   "metadata": {},
   "outputs": [],
   "source": [
    "result_df = pd.DataFrame({'pid': pid, 'class_label': predictions})"
   ]
  },
  {
   "cell_type": "code",
   "execution_count": 22,
   "id": "8659b57a",
   "metadata": {},
   "outputs": [],
   "source": [
    "result_df.to_csv('output.tsv', sep='\\t', index=False)"
   ]
  },
  {
   "cell_type": "code",
   "execution_count": 23,
   "id": "d076e585",
   "metadata": {},
   "outputs": [
    {
     "data": {
      "text/html": [
       "<div>\n",
       "<style scoped>\n",
       "    .dataframe tbody tr th:only-of-type {\n",
       "        vertical-align: middle;\n",
       "    }\n",
       "\n",
       "    .dataframe tbody tr th {\n",
       "        vertical-align: top;\n",
       "    }\n",
       "\n",
       "    .dataframe thead th {\n",
       "        text-align: right;\n",
       "    }\n",
       "</style>\n",
       "<table border=\"1\" class=\"dataframe\">\n",
       "  <thead>\n",
       "    <tr style=\"text-align: right;\">\n",
       "      <th></th>\n",
       "      <th>Pid</th>\n",
       "      <th>Text data</th>\n",
       "      <th>Prediction Output</th>\n",
       "    </tr>\n",
       "  </thead>\n",
       "  <tbody>\n",
       "    <tr>\n",
       "      <th>0</th>\n",
       "      <td>test_id_1</td>\n",
       "      <td>This is me. Don鈥檛 get me wrong, it鈥檚 better th...</td>\n",
       "      <td>moderate</td>\n",
       "    </tr>\n",
       "    <tr>\n",
       "      <th>1</th>\n",
       "      <td>test_id_2</td>\n",
       "      <td>I hate that people don鈥檛 understand that i don...</td>\n",
       "      <td>moderate</td>\n",
       "    </tr>\n",
       "    <tr>\n",
       "      <th>2</th>\n",
       "      <td>test_id_3</td>\n",
       "      <td>But here I am, 24 years old man and doing exac...</td>\n",
       "      <td>not depression</td>\n",
       "    </tr>\n",
       "    <tr>\n",
       "      <th>3</th>\n",
       "      <td>test_id_4</td>\n",
       "      <td>I鈥檓 trapped inside. Does anyone else get that ...</td>\n",
       "      <td>not depression</td>\n",
       "    </tr>\n",
       "    <tr>\n",
       "      <th>4</th>\n",
       "      <td>test_id_5</td>\n",
       "      <td>I read a lot of posts on here of people strugg...</td>\n",
       "      <td>moderate</td>\n",
       "    </tr>\n",
       "    <tr>\n",
       "      <th>...</th>\n",
       "      <td>...</td>\n",
       "      <td>...</td>\n",
       "      <td>...</td>\n",
       "    </tr>\n",
       "    <tr>\n",
       "      <th>494</th>\n",
       "      <td>test_id_495</td>\n",
       "      <td>I'm 14\\nmy mom doesn't take my mental health s...</td>\n",
       "      <td>moderate</td>\n",
       "    </tr>\n",
       "    <tr>\n",
       "      <th>495</th>\n",
       "      <td>test_id_496</td>\n",
       "      <td>I was quite shocked at their reactions. I sort...</td>\n",
       "      <td>moderate</td>\n",
       "    </tr>\n",
       "    <tr>\n",
       "      <th>496</th>\n",
       "      <td>test_id_497</td>\n",
       "      <td>Lying on my bed..... fantasising another life ...</td>\n",
       "      <td>moderate</td>\n",
       "    </tr>\n",
       "    <tr>\n",
       "      <th>497</th>\n",
       "      <td>test_id_498</td>\n",
       "      <td>I was bullied in elementary school, and I alwa...</td>\n",
       "      <td>moderate</td>\n",
       "    </tr>\n",
       "    <tr>\n",
       "      <th>498</th>\n",
       "      <td>test_id_499</td>\n",
       "      <td>I can't go on. Im after finishing a 26oz bottl...</td>\n",
       "      <td>moderate</td>\n",
       "    </tr>\n",
       "  </tbody>\n",
       "</table>\n",
       "<p>499 rows × 3 columns</p>\n",
       "</div>"
      ],
      "text/plain": [
       "             Pid                                          Text data  \\\n",
       "0      test_id_1  This is me. Don鈥檛 get me wrong, it鈥檚 better th...   \n",
       "1      test_id_2  I hate that people don鈥檛 understand that i don...   \n",
       "2      test_id_3  But here I am, 24 years old man and doing exac...   \n",
       "3      test_id_4  I鈥檓 trapped inside. Does anyone else get that ...   \n",
       "4      test_id_5  I read a lot of posts on here of people strugg...   \n",
       "..           ...                                                ...   \n",
       "494  test_id_495  I'm 14\\nmy mom doesn't take my mental health s...   \n",
       "495  test_id_496  I was quite shocked at their reactions. I sort...   \n",
       "496  test_id_497  Lying on my bed..... fantasising another life ...   \n",
       "497  test_id_498  I was bullied in elementary school, and I alwa...   \n",
       "498  test_id_499  I can't go on. Im after finishing a 26oz bottl...   \n",
       "\n",
       "    Prediction Output  \n",
       "0            moderate  \n",
       "1            moderate  \n",
       "2      not depression  \n",
       "3      not depression  \n",
       "4            moderate  \n",
       "..                ...  \n",
       "494          moderate  \n",
       "495          moderate  \n",
       "496          moderate  \n",
       "497          moderate  \n",
       "498          moderate  \n",
       "\n",
       "[499 rows x 3 columns]"
      ]
     },
     "execution_count": 23,
     "metadata": {},
     "output_type": "execute_result"
    }
   ],
   "source": [
    "data = pd.read_csv('output.tsv', sep='\\t')\n",
    "data"
   ]
  },
  {
   "cell_type": "code",
   "execution_count": 24,
   "id": "68924e5f",
   "metadata": {},
   "outputs": [
    {
     "data": {
      "text/plain": [
       "array(['moderate', 'not depression', 'severe'], dtype=object)"
      ]
     },
     "execution_count": 24,
     "metadata": {},
     "output_type": "execute_result"
    }
   ],
   "source": [
    "data['Prediction Output'].unique()"
   ]
  },
  {
   "cell_type": "code",
   "execution_count": 25,
   "id": "c27d9aa1",
   "metadata": {},
   "outputs": [
    {
     "data": {
      "text/plain": [
       "moderate          401\n",
       "not depression     97\n",
       "severe              1\n",
       "Name: Prediction Output, dtype: int64"
      ]
     },
     "execution_count": 25,
     "metadata": {},
     "output_type": "execute_result"
    }
   ],
   "source": [
    "data['Prediction Output'].value_counts()"
   ]
  },
  {
   "cell_type": "code",
   "execution_count": null,
   "id": "2f7f278b",
   "metadata": {},
   "outputs": [],
   "source": []
  }
 ],
 "metadata": {
  "kernelspec": {
   "display_name": "Python 3 (ipykernel)",
   "language": "python",
   "name": "python3"
  },
  "language_info": {
   "codemirror_mode": {
    "name": "ipython",
    "version": 3
   },
   "file_extension": ".py",
   "mimetype": "text/x-python",
   "name": "python",
   "nbconvert_exporter": "python",
   "pygments_lexer": "ipython3",
   "version": "3.9.12"
  }
 },
 "nbformat": 4,
 "nbformat_minor": 5
}
